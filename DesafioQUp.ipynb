{
  "nbformat": 4,
  "nbformat_minor": 0,
  "metadata": {
    "colab": {
      "provenance": []
    },
    "kernelspec": {
      "name": "python3",
      "display_name": "Python 3"
    },
    "language_info": {
      "name": "python"
    }
  },
  "cells": [
    {
      "cell_type": "markdown",
      "source": [
        "Existe alguns problemas matemáticos em abertos que intrigam a humanidade isentando sua\n",
        "complexidade, mas sim, por falta de entendimento em simples axiomas e suas consequências a\n",
        "base deles. A Conjectura de Collatz é um problema em aberto que consiste em afirmar que\n",
        "todos os números naturais respeitando duas regras, gerará o mesmo resultado independentemente do número de iterações que precise para concluí-lo.\n",
        "Para um número λn qualquer, os axiomas são:\n",
        "\n",
        "• Se λn for ímpar, λn+1 = 3 · λn + 1 (axioma 1)\n",
        "\n",
        "• Se λn for par, λn+1 = λ/2 (axioma 2)\n",
        "\n",
        "Sendo então, a Conjectura de Collatz, ∀ λ0 ∈ N, ∃ k ∈ N: aplicados os axiomas 1 e 2,\n",
        "λk = 1."
      ],
      "metadata": {
        "id": "WTszhIrLAKjv"
      }
    },
    {
      "cell_type": "code",
      "source": [
        "def collatz():\n",
        "  n = int(input()) # receber o número\n",
        "  k = 0 # contagem de iterações\n",
        "  seq = [n] # lista de números\n",
        "\n",
        "  while n > 1:\n",
        "    if n%2 == 0: # se for par\n",
        "      n=n/2\n",
        "\n",
        "    else: # se for ímpar\n",
        "      n = 3*n + 1\n",
        "\n",
        "    print(f'λ{k} = {n}')\n",
        "\n",
        "    k +=1\n",
        "    seq.append(n)\n",
        "\n",
        "  print(f'O valor de k é {k}')\n",
        "\n",
        "\n",
        "\n",
        "collatz()"
      ],
      "metadata": {
        "colab": {
          "base_uri": "https://localhost:8080/"
        },
        "id": "HD7vMGknCJ5M",
        "outputId": "999a439b-b990-485b-e29a-105faeed3e4e"
      },
      "execution_count": 7,
      "outputs": [
        {
          "output_type": "stream",
          "name": "stdout",
          "text": [
            "12\n",
            "λ0 = 6.0\n",
            "λ1 = 3.0\n",
            "λ2 = 10.0\n",
            "λ3 = 5.0\n",
            "λ4 = 16.0\n",
            "λ5 = 8.0\n",
            "λ6 = 4.0\n",
            "λ7 = 2.0\n",
            "λ8 = 1.0\n",
            "O valor de k é 9\n"
          ]
        }
      ]
    }
  ]
}